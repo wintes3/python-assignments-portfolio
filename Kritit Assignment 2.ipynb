{
 "cells": [
  {
   "cell_type": "code",
   "execution_count": 14,
   "id": "3cd21839",
   "metadata": {},
   "outputs": [],
   "source": [
    "import math\n",
    "def roots(f,a,b):\n",
    "    M=0\n",
    "    if f(a)==0:\n",
    "        return(round(a,10))\n",
    "    elif f(b)==0:\n",
    "        return(round(b,10))\n",
    "    elif f(a)<=0<=f(b) or f(b)<=0<=f(a):\n",
    "        while abs(b-a)>=10**(-10):\n",
    "            M=((a+b)/2)\n",
    "            if f(a)<0<f(M) or f(M)<0<f(a):\n",
    "                b=M\n",
    "            elif f(M)<0<f(b) or f(b)<0<f(M):\n",
    "                a=M\n",
    "        return(round(M,10))\n",
    "    else: \n",
    "        return(\"solution does not exist within interval\")"
   ]
  },
  {
   "cell_type": "code",
   "execution_count": 7,
   "id": "26e19189",
   "metadata": {},
   "outputs": [
    {
     "name": "stdout",
     "output_type": "stream",
     "text": [
      "0.2698741375\n"
     ]
    }
   ],
   "source": [
    "def g(x):\n",
    "    return math.exp(x)+math.log(x)\n",
    "a=0.1\n",
    "b=1\n",
    "print(roots(g,a,b))"
   ]
  },
  {
   "cell_type": "code",
   "execution_count": 8,
   "id": "44cc0620",
   "metadata": {},
   "outputs": [
    {
     "name": "stdout",
     "output_type": "stream",
     "text": [
      "0\n"
     ]
    }
   ],
   "source": [
    "def h(x):\n",
    "    return math.atan(x)-x**2\n",
    "a=0\n",
    "b=2\n",
    "print(roots(h,a,b))"
   ]
  },
  {
   "cell_type": "code",
   "execution_count": 9,
   "id": "d4acee69",
   "metadata": {},
   "outputs": [
    {
     "name": "stdout",
     "output_type": "stream",
     "text": [
      "3.1415926536\n"
     ]
    }
   ],
   "source": [
    "def i(x):\n",
    "    return (math.sin(x)/math.log(x))\n",
    "a=3\n",
    "b=4\n",
    "print(roots(i,a,b))"
   ]
  },
  {
   "cell_type": "code",
   "execution_count": 15,
   "id": "00e60ebb",
   "metadata": {},
   "outputs": [
    {
     "name": "stdout",
     "output_type": "stream",
     "text": [
      "solution does not exist within interval\n"
     ]
    }
   ],
   "source": [
    "def j(x):\n",
    "    return math.log(math.cos(x))\n",
    "a=5\n",
    "b=7\n",
    "print(roots(j,a,b))"
   ]
  },
  {
   "cell_type": "code",
   "execution_count": 50,
   "id": "811fc919",
   "metadata": {},
   "outputs": [],
   "source": [
    "import numpy as np\n",
    "def funny(x):\n",
    "    if x<=-1:\n",
    "        return 0\n",
    "    elif x>=1:\n",
    "        return 0\n",
    "    else:\n",
    "        return np.exp(1-(1/(1-x**(10**250))))"
   ]
  },
  {
   "cell_type": "code",
   "execution_count": 51,
   "id": "e52e1ea8",
   "metadata": {},
   "outputs": [
    {
     "name": "stdout",
     "output_type": "stream",
     "text": [
      "0\n"
     ]
    }
   ],
   "source": [
    "print(funny(-1))"
   ]
  },
  {
   "cell_type": "code",
   "execution_count": 52,
   "id": "73132b6a",
   "metadata": {},
   "outputs": [
    {
     "name": "stdout",
     "output_type": "stream",
     "text": [
      "0\n"
     ]
    }
   ],
   "source": [
    "print(funny(1))"
   ]
  },
  {
   "cell_type": "code",
   "execution_count": 53,
   "id": "3abfe4bc",
   "metadata": {},
   "outputs": [
    {
     "name": "stdout",
     "output_type": "stream",
     "text": [
      "1.0\n"
     ]
    }
   ],
   "source": [
    "print(funny(0.99999999999999))"
   ]
  },
  {
   "cell_type": "code",
   "execution_count": 4,
   "id": "3a25fc14",
   "metadata": {},
   "outputs": [],
   "source": [
    "import numpy as np\n",
    "def funny(x):\n",
    "    if x<=-1:\n",
    "        return 0\n",
    "    elif x>=1:\n",
    "        return 0\n",
    "    else:\n",
    "        return (-1)/(1-x**(10**250))"
   ]
  },
  {
   "cell_type": "code",
   "execution_count": 5,
   "id": "80aff6f3",
   "metadata": {},
   "outputs": [
    {
     "name": "stdout",
     "output_type": "stream",
     "text": [
      "-1.0\n"
     ]
    }
   ],
   "source": [
    "print(funny(0.99999999999999))"
   ]
  },
  {
   "cell_type": "code",
   "execution_count": null,
   "id": "d8f6539f-f686-4f58-9656-3b69de13f200",
   "metadata": {},
   "outputs": [],
   "source": []
  }
 ],
 "metadata": {
  "kernelspec": {
   "display_name": "Python 3 (ipykernel)",
   "language": "python",
   "name": "python3"
  },
  "language_info": {
   "codemirror_mode": {
    "name": "ipython",
    "version": 3
   },
   "file_extension": ".py",
   "mimetype": "text/x-python",
   "name": "python",
   "nbconvert_exporter": "python",
   "pygments_lexer": "ipython3",
   "version": "3.11.4"
  }
 },
 "nbformat": 4,
 "nbformat_minor": 5
}
