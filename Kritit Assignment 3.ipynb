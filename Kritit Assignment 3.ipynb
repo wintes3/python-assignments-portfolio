{
 "cells": [
  {
   "cell_type": "code",
   "execution_count": 8,
   "id": "5eed8a53",
   "metadata": {},
   "outputs": [
    {
     "name": "stdout",
     "output_type": "stream",
     "text": [
      "0.9999999999\n",
      "1.0000000001\n"
     ]
    }
   ],
   "source": [
    "def f(x): \n",
    "    return x**2\n",
    "c=1\n",
    "E=0.1\n",
    "\n",
    "x1=c\n",
    "x2=c\n",
    "delx=10**(-8)\n",
    "d=10**(-10)\n",
    "def fprime(x):\n",
    "    return (f(x+delx)-f(x-delx))/(2*delx)\n",
    "def L(x):\n",
    "    return f(c)+fprime(c)*(x-c)\n",
    "\n",
    "for i in range(100): \n",
    "    x1=x1-d\n",
    "    if abs(f(x1)-L(x1))<=E:\n",
    "        print(x1)\n",
    "        break\n",
    "else:\n",
    "    print (\"x1 is not found within a resonable range\")\n",
    "for j in range(100):\n",
    "    x2=x2+d\n",
    "    if abs(f(x2)-L(x2))<=E:\n",
    "        print(x2)\n",
    "        break\n",
    "else:\n",
    "    print(\"x2 is not found within a resonable range\")"
   ]
  },
  {
   "cell_type": "code",
   "execution_count": 7,
   "id": "4ee2c12e",
   "metadata": {},
   "outputs": [
    {
     "name": "stdout",
     "output_type": "stream",
     "text": [
      "0.7853981632974483\n",
      "0.7853981634974483\n"
     ]
    }
   ],
   "source": [
    "import numpy as np\n",
    "def f(x): \n",
    "    return np.sin(x)\n",
    "c=np.pi/4\n",
    "E=0.05\n",
    "\n",
    "x1=c\n",
    "x2=c\n",
    "delx=10**(-8)\n",
    "d=10**(-10)\n",
    "def fprime(x):\n",
    "    return (f(x+delx)-f(x-delx))/(2*delx)\n",
    "def L(x):\n",
    "    return f(c)+fprime(c)*(x-c)\n",
    "\n",
    "for i in range(100): \n",
    "    x1=x1-d\n",
    "    if abs(f(x1)-L(x1))<=E:\n",
    "        print(x1)\n",
    "        break\n",
    "else:\n",
    "    print (\"x1 is not found within a resonable range\")\n",
    "for j in range(100):\n",
    "    x2=x2+d\n",
    "    if abs(f(x2)-L(x2))<=E:\n",
    "        print(x2)\n",
    "        break\n",
    "else:\n",
    "    print(\"x2 is not found within a resonable range\")"
   ]
  },
  {
   "cell_type": "code",
   "execution_count": 77,
   "id": "459c6d0f",
   "metadata": {},
   "outputs": [
    {
     "name": "stdout",
     "output_type": "stream",
     "text": [
      "-1e-10\n",
      "1e-10\n"
     ]
    }
   ],
   "source": [
    "import numpy as np\n",
    "def f(x): \n",
    "    return np.exp(x)\n",
    "c=0\n",
    "E=0.01\n",
    "\n",
    "x1=c\n",
    "x2=c\n",
    "delx=10**(-8)\n",
    "d=10**(-10)\n",
    "def fprime(x):\n",
    "    return (f(x+delx)-f(x-delx))/(2*delx)\n",
    "def L(x):\n",
    "    return f(c)+fprime(c)*(x-c)\n",
    "\n",
    "for i in range(100000): \n",
    "    x1=x1-d\n",
    "    if abs(f(x1)-L(x1))<=E:\n",
    "        print(x1)\n",
    "        break\n",
    "else:\n",
    "    print (\"x1 is not found within a resonable range\")\n",
    "for j in range(100000):\n",
    "    x2=x2+d\n",
    "    if abs(f(x2)-L(x2))<=E:\n",
    "        print(x2)\n",
    "        break\n",
    "else:\n",
    "    print(\"x2 is not found within a resonable range\")"
   ]
  },
  {
   "cell_type": "code",
   "execution_count": null,
   "id": "773b6619",
   "metadata": {},
   "outputs": [],
   "source": []
  },
  {
   "cell_type": "code",
   "execution_count": null,
   "id": "3b9738cb",
   "metadata": {},
   "outputs": [],
   "source": []
  },
  {
   "cell_type": "code",
   "execution_count": null,
   "id": "864e7ab6",
   "metadata": {},
   "outputs": [],
   "source": []
  }
 ],
 "metadata": {
  "kernelspec": {
   "display_name": "Python 3 (ipykernel)",
   "language": "python",
   "name": "python3"
  },
  "language_info": {
   "codemirror_mode": {
    "name": "ipython",
    "version": 3
   },
   "file_extension": ".py",
   "mimetype": "text/x-python",
   "name": "python",
   "nbconvert_exporter": "python",
   "pygments_lexer": "ipython3",
   "version": "3.11.4"
  }
 },
 "nbformat": 4,
 "nbformat_minor": 5
}
