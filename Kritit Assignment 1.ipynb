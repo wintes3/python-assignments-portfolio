{
 "cells": [
  {
   "cell_type": "code",
   "execution_count": 8,
   "id": "01f362bb-9bc9-463e-bc01-c1f0dc82431d",
   "metadata": {},
   "outputs": [],
   "source": [
    "def sarah(x):\n",
    "    i=0\n",
    "    s=0\n",
    "    n=0\n",
    "    error_bound=(x**(2*n+1)/(2*n+1))\n",
    "    if 0 <= x <= 1:\n",
    "        while error_bound>0.0001:\n",
    "            n+=1\n",
    "            error_bound=(x**(2*n+1)/(2*n+1))\n",
    "            s+=((-1)**(i)*x**(2*i+1))/(2*i+1)\n",
    "            i+=1\n",
    "        else:\n",
    "            m=2*n+1\n",
    "            print((s,m,error_bound))\n",
    "    else:\n",
    "        print(\"Error!\")"
   ]
  },
  {
   "cell_type": "code",
   "execution_count": 9,
   "id": "a4947eb8",
   "metadata": {
    "scrolled": true
   },
   "outputs": [
    {
     "name": "stdout",
     "output_type": "stream",
     "text": [
      "Error!\n"
     ]
    }
   ],
   "source": [
    "sarah(-1)"
   ]
  },
  {
   "cell_type": "code",
   "execution_count": 10,
   "id": "9d1cf1ce",
   "metadata": {},
   "outputs": [
    {
     "name": "stdout",
     "output_type": "stream",
     "text": [
      "(0, 1, 0.0)\n"
     ]
    }
   ],
   "source": [
    "sarah(0)"
   ]
  },
  {
   "cell_type": "code",
   "execution_count": 11,
   "id": "950698e9",
   "metadata": {},
   "outputs": [
    {
     "name": "stdout",
     "output_type": "stream",
     "text": [
      "(0.24498697916666665, 7, 8.719308035714285e-06)\n"
     ]
    }
   ],
   "source": [
    "sarah(0.25)"
   ]
  },
  {
   "cell_type": "code",
   "execution_count": 12,
   "id": "f76c1bcb-85f9-4506-a6a9-fdfabae27341",
   "metadata": {},
   "outputs": [
    {
     "name": "stdout",
     "output_type": "stream",
     "text": [
      "(0.46368427579365074, 11, 4.438920454545455e-05)\n"
     ]
    }
   ],
   "source": [
    "sarah(0.5)"
   ]
  },
  {
   "cell_type": "code",
   "execution_count": 13,
   "id": "91569ff4-da74-4cc7-b792-6d964e94f5a7",
   "metadata": {},
   "outputs": [
    {
     "name": "stdout",
     "output_type": "stream",
     "text": [
      "(0.6435394700943785, 23, 5.816761029294689e-05)\n"
     ]
    }
   ],
   "source": [
    "sarah(0.75)"
   ]
  },
  {
   "cell_type": "code",
   "execution_count": 14,
   "id": "070b7700-2f0c-4577-a07e-07683d11e5c4",
   "metadata": {},
   "outputs": [
    {
     "name": "stdout",
     "output_type": "stream",
     "text": [
      "(0.7853481633979478, 10001, 9.999000099990002e-05)\n"
     ]
    }
   ],
   "source": [
    "sarah(1)"
   ]
  }
 ],
 "metadata": {
  "kernelspec": {
   "display_name": "Python 3 (ipykernel)",
   "language": "python",
   "name": "python3"
  },
  "language_info": {
   "codemirror_mode": {
    "name": "ipython",
    "version": 3
   },
   "file_extension": ".py",
   "mimetype": "text/x-python",
   "name": "python",
   "nbconvert_exporter": "python",
   "pygments_lexer": "ipython3",
   "version": "3.11.4"
  }
 },
 "nbformat": 4,
 "nbformat_minor": 5
}
